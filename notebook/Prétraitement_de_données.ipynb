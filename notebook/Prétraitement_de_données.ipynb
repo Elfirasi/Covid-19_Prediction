{
  "cells": [
    {
      "cell_type": "markdown",
      "metadata": {
        "colab_type": "text",
        "id": "view-in-github"
      },
      "source": [
        "<a href=\"https://colab.research.google.com/github/MachineLearnia/Python-Machine-Learning/blob/master/28%20-%20Pr%C3%A9traitement%20de%20donn%C3%A9es%20(Corrig%C3%A9).ipynb\" target=\"_parent\"><img src=\"https://colab.research.google.com/assets/colab-badge.svg\" alt=\"Open In Colab\"/></a>"
      ]
    },
    {
      "cell_type": "code",
      "execution_count": 41,
      "metadata": {
        "colab": {
          "base_uri": "https://localhost:8080/",
          "height": 17
        },
        "colab_type": "code",
        "id": "EOS91mievJyr",
        "outputId": "ea146814-de14-4270-d37c-b6fbe54471bc"
      },
      "outputs": [
        {
          "data": {
            "application/javascript": "IPython.OutputArea.auto_scroll_threshold = 9999\n",
            "text/plain": [
              "<IPython.core.display.Javascript object>"
            ]
          },
          "metadata": {},
          "output_type": "display_data"
        }
      ],
      "source": [
        "%%javascript\n",
        "IPython.OutputArea.auto_scroll_threshold = 9999"
      ]
    },
    {
      "cell_type": "code",
      "execution_count": 42,
      "metadata": {
        "colab": {
          "base_uri": "https://localhost:8080/",
          "height": 51
        },
        "colab_type": "code",
        "id": "Vfl6Jxw6vJyu",
        "outputId": "f0e00250-5cd1-41c6-f30e-bb47335454d7"
      },
      "outputs": [],
      "source": [
        "import numpy as np\n",
        "import pandas as pd\n",
        "import matplotlib.pyplot as plt\n",
        "import seaborn as sns"
      ]
    },
    {
      "cell_type": "code",
      "execution_count": 43,
      "metadata": {
        "colab": {
          "base_uri": "https://localhost:8080/",
          "height": 386
        },
        "colab_type": "code",
        "id": "7ReZHhe0vJyw",
        "outputId": "96e49d8e-cedb-43de-9bae-678f6fc6f24c"
      },
      "outputs": [
        {
          "data": {
            "text/html": [
              "<div>\n",
              "<style scoped>\n",
              "    .dataframe tbody tr th:only-of-type {\n",
              "        vertical-align: middle;\n",
              "    }\n",
              "\n",
              "    .dataframe tbody tr th {\n",
              "        vertical-align: top;\n",
              "    }\n",
              "\n",
              "    .dataframe thead th {\n",
              "        text-align: right;\n",
              "    }\n",
              "</style>\n",
              "<table border=\"1\" class=\"dataframe\">\n",
              "  <thead>\n",
              "    <tr style=\"text-align: right;\">\n",
              "      <th></th>\n",
              "      <th>Patient age quantile</th>\n",
              "      <th>SARS-Cov-2 exam result</th>\n",
              "      <th>Patient addmited to regular ward (1=yes, 0=no)</th>\n",
              "      <th>Patient addmited to semi-intensive unit (1=yes, 0=no)</th>\n",
              "      <th>Patient addmited to intensive care unit (1=yes, 0=no)</th>\n",
              "      <th>Hematocrit</th>\n",
              "      <th>Hemoglobin</th>\n",
              "      <th>Platelets</th>\n",
              "      <th>Mean platelet volume</th>\n",
              "      <th>Red blood Cells</th>\n",
              "      <th>...</th>\n",
              "      <th>Hb saturation (arterial blood gases)</th>\n",
              "      <th>pCO2 (arterial blood gas analysis)</th>\n",
              "      <th>Base excess (arterial blood gas analysis)</th>\n",
              "      <th>pH (arterial blood gas analysis)</th>\n",
              "      <th>Total CO2 (arterial blood gas analysis)</th>\n",
              "      <th>HCO3 (arterial blood gas analysis)</th>\n",
              "      <th>pO2 (arterial blood gas analysis)</th>\n",
              "      <th>Arteiral Fio2</th>\n",
              "      <th>Phosphor</th>\n",
              "      <th>ctO2 (arterial blood gas analysis)</th>\n",
              "    </tr>\n",
              "    <tr>\n",
              "      <th>Patient ID</th>\n",
              "      <th></th>\n",
              "      <th></th>\n",
              "      <th></th>\n",
              "      <th></th>\n",
              "      <th></th>\n",
              "      <th></th>\n",
              "      <th></th>\n",
              "      <th></th>\n",
              "      <th></th>\n",
              "      <th></th>\n",
              "      <th></th>\n",
              "      <th></th>\n",
              "      <th></th>\n",
              "      <th></th>\n",
              "      <th></th>\n",
              "      <th></th>\n",
              "      <th></th>\n",
              "      <th></th>\n",
              "      <th></th>\n",
              "      <th></th>\n",
              "      <th></th>\n",
              "    </tr>\n",
              "  </thead>\n",
              "  <tbody>\n",
              "    <tr>\n",
              "      <th>44477f75e8169d2</th>\n",
              "      <td>13</td>\n",
              "      <td>negative</td>\n",
              "      <td>0</td>\n",
              "      <td>0</td>\n",
              "      <td>0</td>\n",
              "      <td>NaN</td>\n",
              "      <td>NaN</td>\n",
              "      <td>NaN</td>\n",
              "      <td>NaN</td>\n",
              "      <td>NaN</td>\n",
              "      <td>...</td>\n",
              "      <td>NaN</td>\n",
              "      <td>NaN</td>\n",
              "      <td>NaN</td>\n",
              "      <td>NaN</td>\n",
              "      <td>NaN</td>\n",
              "      <td>NaN</td>\n",
              "      <td>NaN</td>\n",
              "      <td>NaN</td>\n",
              "      <td>NaN</td>\n",
              "      <td>NaN</td>\n",
              "    </tr>\n",
              "    <tr>\n",
              "      <th>126e9dd13932f68</th>\n",
              "      <td>17</td>\n",
              "      <td>negative</td>\n",
              "      <td>0</td>\n",
              "      <td>0</td>\n",
              "      <td>0</td>\n",
              "      <td>0.236515</td>\n",
              "      <td>-0.02234</td>\n",
              "      <td>-0.517413</td>\n",
              "      <td>0.010677</td>\n",
              "      <td>0.102004</td>\n",
              "      <td>...</td>\n",
              "      <td>NaN</td>\n",
              "      <td>NaN</td>\n",
              "      <td>NaN</td>\n",
              "      <td>NaN</td>\n",
              "      <td>NaN</td>\n",
              "      <td>NaN</td>\n",
              "      <td>NaN</td>\n",
              "      <td>NaN</td>\n",
              "      <td>NaN</td>\n",
              "      <td>NaN</td>\n",
              "    </tr>\n",
              "    <tr>\n",
              "      <th>a46b4402a0e5696</th>\n",
              "      <td>8</td>\n",
              "      <td>negative</td>\n",
              "      <td>0</td>\n",
              "      <td>0</td>\n",
              "      <td>0</td>\n",
              "      <td>NaN</td>\n",
              "      <td>NaN</td>\n",
              "      <td>NaN</td>\n",
              "      <td>NaN</td>\n",
              "      <td>NaN</td>\n",
              "      <td>...</td>\n",
              "      <td>NaN</td>\n",
              "      <td>NaN</td>\n",
              "      <td>NaN</td>\n",
              "      <td>NaN</td>\n",
              "      <td>NaN</td>\n",
              "      <td>NaN</td>\n",
              "      <td>NaN</td>\n",
              "      <td>NaN</td>\n",
              "      <td>NaN</td>\n",
              "      <td>NaN</td>\n",
              "    </tr>\n",
              "    <tr>\n",
              "      <th>f7d619a94f97c45</th>\n",
              "      <td>5</td>\n",
              "      <td>negative</td>\n",
              "      <td>0</td>\n",
              "      <td>0</td>\n",
              "      <td>0</td>\n",
              "      <td>NaN</td>\n",
              "      <td>NaN</td>\n",
              "      <td>NaN</td>\n",
              "      <td>NaN</td>\n",
              "      <td>NaN</td>\n",
              "      <td>...</td>\n",
              "      <td>NaN</td>\n",
              "      <td>NaN</td>\n",
              "      <td>NaN</td>\n",
              "      <td>NaN</td>\n",
              "      <td>NaN</td>\n",
              "      <td>NaN</td>\n",
              "      <td>NaN</td>\n",
              "      <td>NaN</td>\n",
              "      <td>NaN</td>\n",
              "      <td>NaN</td>\n",
              "    </tr>\n",
              "    <tr>\n",
              "      <th>d9e41465789c2b5</th>\n",
              "      <td>15</td>\n",
              "      <td>negative</td>\n",
              "      <td>0</td>\n",
              "      <td>0</td>\n",
              "      <td>0</td>\n",
              "      <td>NaN</td>\n",
              "      <td>NaN</td>\n",
              "      <td>NaN</td>\n",
              "      <td>NaN</td>\n",
              "      <td>NaN</td>\n",
              "      <td>...</td>\n",
              "      <td>NaN</td>\n",
              "      <td>NaN</td>\n",
              "      <td>NaN</td>\n",
              "      <td>NaN</td>\n",
              "      <td>NaN</td>\n",
              "      <td>NaN</td>\n",
              "      <td>NaN</td>\n",
              "      <td>NaN</td>\n",
              "      <td>NaN</td>\n",
              "      <td>NaN</td>\n",
              "    </tr>\n",
              "  </tbody>\n",
              "</table>\n",
              "<p>5 rows × 110 columns</p>\n",
              "</div>"
            ],
            "text/plain": [
              "                 Patient age quantile SARS-Cov-2 exam result  \\\n",
              "Patient ID                                                     \n",
              "44477f75e8169d2                    13               negative   \n",
              "126e9dd13932f68                    17               negative   \n",
              "a46b4402a0e5696                     8               negative   \n",
              "f7d619a94f97c45                     5               negative   \n",
              "d9e41465789c2b5                    15               negative   \n",
              "\n",
              "                 Patient addmited to regular ward (1=yes, 0=no)  \\\n",
              "Patient ID                                                        \n",
              "44477f75e8169d2                                               0   \n",
              "126e9dd13932f68                                               0   \n",
              "a46b4402a0e5696                                               0   \n",
              "f7d619a94f97c45                                               0   \n",
              "d9e41465789c2b5                                               0   \n",
              "\n",
              "                 Patient addmited to semi-intensive unit (1=yes, 0=no)  \\\n",
              "Patient ID                                                               \n",
              "44477f75e8169d2                                                  0       \n",
              "126e9dd13932f68                                                  0       \n",
              "a46b4402a0e5696                                                  0       \n",
              "f7d619a94f97c45                                                  0       \n",
              "d9e41465789c2b5                                                  0       \n",
              "\n",
              "                 Patient addmited to intensive care unit (1=yes, 0=no)  \\\n",
              "Patient ID                                                               \n",
              "44477f75e8169d2                                                  0       \n",
              "126e9dd13932f68                                                  0       \n",
              "a46b4402a0e5696                                                  0       \n",
              "f7d619a94f97c45                                                  0       \n",
              "d9e41465789c2b5                                                  0       \n",
              "\n",
              "                 Hematocrit  Hemoglobin  Platelets  Mean platelet volume   \\\n",
              "Patient ID                                                                  \n",
              "44477f75e8169d2         NaN         NaN        NaN                    NaN   \n",
              "126e9dd13932f68    0.236515    -0.02234  -0.517413               0.010677   \n",
              "a46b4402a0e5696         NaN         NaN        NaN                    NaN   \n",
              "f7d619a94f97c45         NaN         NaN        NaN                    NaN   \n",
              "d9e41465789c2b5         NaN         NaN        NaN                    NaN   \n",
              "\n",
              "                 Red blood Cells  ...  Hb saturation (arterial blood gases)  \\\n",
              "Patient ID                        ...                                         \n",
              "44477f75e8169d2              NaN  ...                                   NaN   \n",
              "126e9dd13932f68         0.102004  ...                                   NaN   \n",
              "a46b4402a0e5696              NaN  ...                                   NaN   \n",
              "f7d619a94f97c45              NaN  ...                                   NaN   \n",
              "d9e41465789c2b5              NaN  ...                                   NaN   \n",
              "\n",
              "                 pCO2 (arterial blood gas analysis)  \\\n",
              "Patient ID                                            \n",
              "44477f75e8169d2                                 NaN   \n",
              "126e9dd13932f68                                 NaN   \n",
              "a46b4402a0e5696                                 NaN   \n",
              "f7d619a94f97c45                                 NaN   \n",
              "d9e41465789c2b5                                 NaN   \n",
              "\n",
              "                 Base excess (arterial blood gas analysis)  \\\n",
              "Patient ID                                                   \n",
              "44477f75e8169d2                                        NaN   \n",
              "126e9dd13932f68                                        NaN   \n",
              "a46b4402a0e5696                                        NaN   \n",
              "f7d619a94f97c45                                        NaN   \n",
              "d9e41465789c2b5                                        NaN   \n",
              "\n",
              "                 pH (arterial blood gas analysis)  \\\n",
              "Patient ID                                          \n",
              "44477f75e8169d2                               NaN   \n",
              "126e9dd13932f68                               NaN   \n",
              "a46b4402a0e5696                               NaN   \n",
              "f7d619a94f97c45                               NaN   \n",
              "d9e41465789c2b5                               NaN   \n",
              "\n",
              "                 Total CO2 (arterial blood gas analysis)  \\\n",
              "Patient ID                                                 \n",
              "44477f75e8169d2                                      NaN   \n",
              "126e9dd13932f68                                      NaN   \n",
              "a46b4402a0e5696                                      NaN   \n",
              "f7d619a94f97c45                                      NaN   \n",
              "d9e41465789c2b5                                      NaN   \n",
              "\n",
              "                 HCO3 (arterial blood gas analysis)  \\\n",
              "Patient ID                                            \n",
              "44477f75e8169d2                                 NaN   \n",
              "126e9dd13932f68                                 NaN   \n",
              "a46b4402a0e5696                                 NaN   \n",
              "f7d619a94f97c45                                 NaN   \n",
              "d9e41465789c2b5                                 NaN   \n",
              "\n",
              "                 pO2 (arterial blood gas analysis)  Arteiral Fio2  Phosphor  \\\n",
              "Patient ID                                                                    \n",
              "44477f75e8169d2                                NaN            NaN       NaN   \n",
              "126e9dd13932f68                                NaN            NaN       NaN   \n",
              "a46b4402a0e5696                                NaN            NaN       NaN   \n",
              "f7d619a94f97c45                                NaN            NaN       NaN   \n",
              "d9e41465789c2b5                                NaN            NaN       NaN   \n",
              "\n",
              "                 ctO2 (arterial blood gas analysis)  \n",
              "Patient ID                                           \n",
              "44477f75e8169d2                                 NaN  \n",
              "126e9dd13932f68                                 NaN  \n",
              "a46b4402a0e5696                                 NaN  \n",
              "f7d619a94f97c45                                 NaN  \n",
              "d9e41465789c2b5                                 NaN  \n",
              "\n",
              "[5 rows x 110 columns]"
            ]
          },
          "execution_count": 43,
          "metadata": {},
          "output_type": "execute_result"
        }
      ],
      "source": [
        "url = 'https://raw.githubusercontent.com/Elfirasi/Covid-19_Prediction/main/notebook/data/dataset.csv'\n",
        "data = pd.read_csv(url, index_col=0, encoding = \"ISO-8859-1\")\n",
        "data.head()"
      ]
    },
    {
      "cell_type": "markdown",
      "metadata": {
        "colab_type": "text",
        "id": "_AHnVIi5vJyy"
      },
      "source": [
        "# PRE-PROCESSING"
      ]
    },
    {
      "cell_type": "code",
      "execution_count": 44,
      "metadata": {
        "colab": {
          "base_uri": "https://localhost:8080/",
          "height": 386
        },
        "colab_type": "code",
        "id": "nmdMdxp5vJyz",
        "outputId": "8a4b85ee-d4d4-4502-e616-8d1d2c2aeff5"
      },
      "outputs": [
        {
          "data": {
            "text/html": [
              "<div>\n",
              "<style scoped>\n",
              "    .dataframe tbody tr th:only-of-type {\n",
              "        vertical-align: middle;\n",
              "    }\n",
              "\n",
              "    .dataframe tbody tr th {\n",
              "        vertical-align: top;\n",
              "    }\n",
              "\n",
              "    .dataframe thead th {\n",
              "        text-align: right;\n",
              "    }\n",
              "</style>\n",
              "<table border=\"1\" class=\"dataframe\">\n",
              "  <thead>\n",
              "    <tr style=\"text-align: right;\">\n",
              "      <th></th>\n",
              "      <th>Patient age quantile</th>\n",
              "      <th>SARS-Cov-2 exam result</th>\n",
              "      <th>Patient addmited to regular ward (1=yes, 0=no)</th>\n",
              "      <th>Patient addmited to semi-intensive unit (1=yes, 0=no)</th>\n",
              "      <th>Patient addmited to intensive care unit (1=yes, 0=no)</th>\n",
              "      <th>Hematocrit</th>\n",
              "      <th>Hemoglobin</th>\n",
              "      <th>Platelets</th>\n",
              "      <th>Mean platelet volume</th>\n",
              "      <th>Red blood Cells</th>\n",
              "      <th>...</th>\n",
              "      <th>Hb saturation (arterial blood gases)</th>\n",
              "      <th>pCO2 (arterial blood gas analysis)</th>\n",
              "      <th>Base excess (arterial blood gas analysis)</th>\n",
              "      <th>pH (arterial blood gas analysis)</th>\n",
              "      <th>Total CO2 (arterial blood gas analysis)</th>\n",
              "      <th>HCO3 (arterial blood gas analysis)</th>\n",
              "      <th>pO2 (arterial blood gas analysis)</th>\n",
              "      <th>Arteiral Fio2</th>\n",
              "      <th>Phosphor</th>\n",
              "      <th>ctO2 (arterial blood gas analysis)</th>\n",
              "    </tr>\n",
              "    <tr>\n",
              "      <th>Patient ID</th>\n",
              "      <th></th>\n",
              "      <th></th>\n",
              "      <th></th>\n",
              "      <th></th>\n",
              "      <th></th>\n",
              "      <th></th>\n",
              "      <th></th>\n",
              "      <th></th>\n",
              "      <th></th>\n",
              "      <th></th>\n",
              "      <th></th>\n",
              "      <th></th>\n",
              "      <th></th>\n",
              "      <th></th>\n",
              "      <th></th>\n",
              "      <th></th>\n",
              "      <th></th>\n",
              "      <th></th>\n",
              "      <th></th>\n",
              "      <th></th>\n",
              "      <th></th>\n",
              "    </tr>\n",
              "  </thead>\n",
              "  <tbody>\n",
              "    <tr>\n",
              "      <th>44477f75e8169d2</th>\n",
              "      <td>13</td>\n",
              "      <td>negative</td>\n",
              "      <td>0</td>\n",
              "      <td>0</td>\n",
              "      <td>0</td>\n",
              "      <td>NaN</td>\n",
              "      <td>NaN</td>\n",
              "      <td>NaN</td>\n",
              "      <td>NaN</td>\n",
              "      <td>NaN</td>\n",
              "      <td>...</td>\n",
              "      <td>NaN</td>\n",
              "      <td>NaN</td>\n",
              "      <td>NaN</td>\n",
              "      <td>NaN</td>\n",
              "      <td>NaN</td>\n",
              "      <td>NaN</td>\n",
              "      <td>NaN</td>\n",
              "      <td>NaN</td>\n",
              "      <td>NaN</td>\n",
              "      <td>NaN</td>\n",
              "    </tr>\n",
              "    <tr>\n",
              "      <th>126e9dd13932f68</th>\n",
              "      <td>17</td>\n",
              "      <td>negative</td>\n",
              "      <td>0</td>\n",
              "      <td>0</td>\n",
              "      <td>0</td>\n",
              "      <td>0.236515</td>\n",
              "      <td>-0.02234</td>\n",
              "      <td>-0.517413</td>\n",
              "      <td>0.010677</td>\n",
              "      <td>0.102004</td>\n",
              "      <td>...</td>\n",
              "      <td>NaN</td>\n",
              "      <td>NaN</td>\n",
              "      <td>NaN</td>\n",
              "      <td>NaN</td>\n",
              "      <td>NaN</td>\n",
              "      <td>NaN</td>\n",
              "      <td>NaN</td>\n",
              "      <td>NaN</td>\n",
              "      <td>NaN</td>\n",
              "      <td>NaN</td>\n",
              "    </tr>\n",
              "    <tr>\n",
              "      <th>a46b4402a0e5696</th>\n",
              "      <td>8</td>\n",
              "      <td>negative</td>\n",
              "      <td>0</td>\n",
              "      <td>0</td>\n",
              "      <td>0</td>\n",
              "      <td>NaN</td>\n",
              "      <td>NaN</td>\n",
              "      <td>NaN</td>\n",
              "      <td>NaN</td>\n",
              "      <td>NaN</td>\n",
              "      <td>...</td>\n",
              "      <td>NaN</td>\n",
              "      <td>NaN</td>\n",
              "      <td>NaN</td>\n",
              "      <td>NaN</td>\n",
              "      <td>NaN</td>\n",
              "      <td>NaN</td>\n",
              "      <td>NaN</td>\n",
              "      <td>NaN</td>\n",
              "      <td>NaN</td>\n",
              "      <td>NaN</td>\n",
              "    </tr>\n",
              "    <tr>\n",
              "      <th>f7d619a94f97c45</th>\n",
              "      <td>5</td>\n",
              "      <td>negative</td>\n",
              "      <td>0</td>\n",
              "      <td>0</td>\n",
              "      <td>0</td>\n",
              "      <td>NaN</td>\n",
              "      <td>NaN</td>\n",
              "      <td>NaN</td>\n",
              "      <td>NaN</td>\n",
              "      <td>NaN</td>\n",
              "      <td>...</td>\n",
              "      <td>NaN</td>\n",
              "      <td>NaN</td>\n",
              "      <td>NaN</td>\n",
              "      <td>NaN</td>\n",
              "      <td>NaN</td>\n",
              "      <td>NaN</td>\n",
              "      <td>NaN</td>\n",
              "      <td>NaN</td>\n",
              "      <td>NaN</td>\n",
              "      <td>NaN</td>\n",
              "    </tr>\n",
              "    <tr>\n",
              "      <th>d9e41465789c2b5</th>\n",
              "      <td>15</td>\n",
              "      <td>negative</td>\n",
              "      <td>0</td>\n",
              "      <td>0</td>\n",
              "      <td>0</td>\n",
              "      <td>NaN</td>\n",
              "      <td>NaN</td>\n",
              "      <td>NaN</td>\n",
              "      <td>NaN</td>\n",
              "      <td>NaN</td>\n",
              "      <td>...</td>\n",
              "      <td>NaN</td>\n",
              "      <td>NaN</td>\n",
              "      <td>NaN</td>\n",
              "      <td>NaN</td>\n",
              "      <td>NaN</td>\n",
              "      <td>NaN</td>\n",
              "      <td>NaN</td>\n",
              "      <td>NaN</td>\n",
              "      <td>NaN</td>\n",
              "      <td>NaN</td>\n",
              "    </tr>\n",
              "  </tbody>\n",
              "</table>\n",
              "<p>5 rows × 110 columns</p>\n",
              "</div>"
            ],
            "text/plain": [
              "                 Patient age quantile SARS-Cov-2 exam result  \\\n",
              "Patient ID                                                     \n",
              "44477f75e8169d2                    13               negative   \n",
              "126e9dd13932f68                    17               negative   \n",
              "a46b4402a0e5696                     8               negative   \n",
              "f7d619a94f97c45                     5               negative   \n",
              "d9e41465789c2b5                    15               negative   \n",
              "\n",
              "                 Patient addmited to regular ward (1=yes, 0=no)  \\\n",
              "Patient ID                                                        \n",
              "44477f75e8169d2                                               0   \n",
              "126e9dd13932f68                                               0   \n",
              "a46b4402a0e5696                                               0   \n",
              "f7d619a94f97c45                                               0   \n",
              "d9e41465789c2b5                                               0   \n",
              "\n",
              "                 Patient addmited to semi-intensive unit (1=yes, 0=no)  \\\n",
              "Patient ID                                                               \n",
              "44477f75e8169d2                                                  0       \n",
              "126e9dd13932f68                                                  0       \n",
              "a46b4402a0e5696                                                  0       \n",
              "f7d619a94f97c45                                                  0       \n",
              "d9e41465789c2b5                                                  0       \n",
              "\n",
              "                 Patient addmited to intensive care unit (1=yes, 0=no)  \\\n",
              "Patient ID                                                               \n",
              "44477f75e8169d2                                                  0       \n",
              "126e9dd13932f68                                                  0       \n",
              "a46b4402a0e5696                                                  0       \n",
              "f7d619a94f97c45                                                  0       \n",
              "d9e41465789c2b5                                                  0       \n",
              "\n",
              "                 Hematocrit  Hemoglobin  Platelets  Mean platelet volume   \\\n",
              "Patient ID                                                                  \n",
              "44477f75e8169d2         NaN         NaN        NaN                    NaN   \n",
              "126e9dd13932f68    0.236515    -0.02234  -0.517413               0.010677   \n",
              "a46b4402a0e5696         NaN         NaN        NaN                    NaN   \n",
              "f7d619a94f97c45         NaN         NaN        NaN                    NaN   \n",
              "d9e41465789c2b5         NaN         NaN        NaN                    NaN   \n",
              "\n",
              "                 Red blood Cells  ...  Hb saturation (arterial blood gases)  \\\n",
              "Patient ID                        ...                                         \n",
              "44477f75e8169d2              NaN  ...                                   NaN   \n",
              "126e9dd13932f68         0.102004  ...                                   NaN   \n",
              "a46b4402a0e5696              NaN  ...                                   NaN   \n",
              "f7d619a94f97c45              NaN  ...                                   NaN   \n",
              "d9e41465789c2b5              NaN  ...                                   NaN   \n",
              "\n",
              "                 pCO2 (arterial blood gas analysis)  \\\n",
              "Patient ID                                            \n",
              "44477f75e8169d2                                 NaN   \n",
              "126e9dd13932f68                                 NaN   \n",
              "a46b4402a0e5696                                 NaN   \n",
              "f7d619a94f97c45                                 NaN   \n",
              "d9e41465789c2b5                                 NaN   \n",
              "\n",
              "                 Base excess (arterial blood gas analysis)  \\\n",
              "Patient ID                                                   \n",
              "44477f75e8169d2                                        NaN   \n",
              "126e9dd13932f68                                        NaN   \n",
              "a46b4402a0e5696                                        NaN   \n",
              "f7d619a94f97c45                                        NaN   \n",
              "d9e41465789c2b5                                        NaN   \n",
              "\n",
              "                 pH (arterial blood gas analysis)  \\\n",
              "Patient ID                                          \n",
              "44477f75e8169d2                               NaN   \n",
              "126e9dd13932f68                               NaN   \n",
              "a46b4402a0e5696                               NaN   \n",
              "f7d619a94f97c45                               NaN   \n",
              "d9e41465789c2b5                               NaN   \n",
              "\n",
              "                 Total CO2 (arterial blood gas analysis)  \\\n",
              "Patient ID                                                 \n",
              "44477f75e8169d2                                      NaN   \n",
              "126e9dd13932f68                                      NaN   \n",
              "a46b4402a0e5696                                      NaN   \n",
              "f7d619a94f97c45                                      NaN   \n",
              "d9e41465789c2b5                                      NaN   \n",
              "\n",
              "                 HCO3 (arterial blood gas analysis)  \\\n",
              "Patient ID                                            \n",
              "44477f75e8169d2                                 NaN   \n",
              "126e9dd13932f68                                 NaN   \n",
              "a46b4402a0e5696                                 NaN   \n",
              "f7d619a94f97c45                                 NaN   \n",
              "d9e41465789c2b5                                 NaN   \n",
              "\n",
              "                 pO2 (arterial blood gas analysis)  Arteiral Fio2  Phosphor  \\\n",
              "Patient ID                                                                    \n",
              "44477f75e8169d2                                NaN            NaN       NaN   \n",
              "126e9dd13932f68                                NaN            NaN       NaN   \n",
              "a46b4402a0e5696                                NaN            NaN       NaN   \n",
              "f7d619a94f97c45                                NaN            NaN       NaN   \n",
              "d9e41465789c2b5                                NaN            NaN       NaN   \n",
              "\n",
              "                 ctO2 (arterial blood gas analysis)  \n",
              "Patient ID                                           \n",
              "44477f75e8169d2                                 NaN  \n",
              "126e9dd13932f68                                 NaN  \n",
              "a46b4402a0e5696                                 NaN  \n",
              "f7d619a94f97c45                                 NaN  \n",
              "d9e41465789c2b5                                 NaN  \n",
              "\n",
              "[5 rows x 110 columns]"
            ]
          },
          "execution_count": 44,
          "metadata": {},
          "output_type": "execute_result"
        }
      ],
      "source": [
        "df = data.copy()\n",
        "df.head()"
      ]
    },
    {
      "cell_type": "markdown",
      "metadata": {
        "colab_type": "text",
        "id": "Utxp9WEcvJy1"
      },
      "source": [
        "## Création des sous-ensembles (suite au EDA)"
      ]
    },
    {
      "cell_type": "code",
      "execution_count": 45,
      "metadata": {
        "colab": {},
        "colab_type": "code",
        "id": "ziegnMu3vJy1"
      },
      "outputs": [],
      "source": [
        "missing_rate = df.isna().sum()/df.shape[0]"
      ]
    },
    {
      "cell_type": "code",
      "execution_count": 46,
      "metadata": {
        "colab": {},
        "colab_type": "code",
        "id": "tJsNA3EIvJy3"
      },
      "outputs": [],
      "source": [
        "blood_columns = list(df.columns[(missing_rate < 0.9) & (missing_rate >0.88)])\n",
        "viral_columns = list(df.columns[(missing_rate < 0.80) & (missing_rate > 0.75)])"
      ]
    },
    {
      "cell_type": "code",
      "execution_count": 47,
      "metadata": {
        "colab": {},
        "colab_type": "code",
        "id": "kyF1e3FHvJy5"
      },
      "outputs": [],
      "source": [
        "key_columns = ['Patient age quantile', 'SARS-Cov-2 exam result']"
      ]
    },
    {
      "cell_type": "code",
      "execution_count": 48,
      "metadata": {
        "colab": {
          "base_uri": "https://localhost:8080/",
          "height": 306
        },
        "colab_type": "code",
        "id": "6weBpPP3vJy7",
        "outputId": "b2dca5f6-5644-4a08-bef2-09683e392a13"
      },
      "outputs": [
        {
          "data": {
            "text/html": [
              "<div>\n",
              "<style scoped>\n",
              "    .dataframe tbody tr th:only-of-type {\n",
              "        vertical-align: middle;\n",
              "    }\n",
              "\n",
              "    .dataframe tbody tr th {\n",
              "        vertical-align: top;\n",
              "    }\n",
              "\n",
              "    .dataframe thead th {\n",
              "        text-align: right;\n",
              "    }\n",
              "</style>\n",
              "<table border=\"1\" class=\"dataframe\">\n",
              "  <thead>\n",
              "    <tr style=\"text-align: right;\">\n",
              "      <th></th>\n",
              "      <th>Patient age quantile</th>\n",
              "      <th>SARS-Cov-2 exam result</th>\n",
              "      <th>Hematocrit</th>\n",
              "      <th>Hemoglobin</th>\n",
              "      <th>Platelets</th>\n",
              "      <th>Mean platelet volume</th>\n",
              "      <th>Red blood Cells</th>\n",
              "      <th>Lymphocytes</th>\n",
              "      <th>Mean corpuscular hemoglobin concentration (MCHC)</th>\n",
              "      <th>Leukocytes</th>\n",
              "      <th>...</th>\n",
              "      <th>Parainfluenza 3</th>\n",
              "      <th>Chlamydophila pneumoniae</th>\n",
              "      <th>Adenovirus</th>\n",
              "      <th>Parainfluenza 4</th>\n",
              "      <th>Coronavirus229E</th>\n",
              "      <th>CoronavirusOC43</th>\n",
              "      <th>Inf A H1N1 2009</th>\n",
              "      <th>Bordetella pertussis</th>\n",
              "      <th>Metapneumovirus</th>\n",
              "      <th>Parainfluenza 2</th>\n",
              "    </tr>\n",
              "    <tr>\n",
              "      <th>Patient ID</th>\n",
              "      <th></th>\n",
              "      <th></th>\n",
              "      <th></th>\n",
              "      <th></th>\n",
              "      <th></th>\n",
              "      <th></th>\n",
              "      <th></th>\n",
              "      <th></th>\n",
              "      <th></th>\n",
              "      <th></th>\n",
              "      <th></th>\n",
              "      <th></th>\n",
              "      <th></th>\n",
              "      <th></th>\n",
              "      <th></th>\n",
              "      <th></th>\n",
              "      <th></th>\n",
              "      <th></th>\n",
              "      <th></th>\n",
              "      <th></th>\n",
              "      <th></th>\n",
              "    </tr>\n",
              "  </thead>\n",
              "  <tbody>\n",
              "    <tr>\n",
              "      <th>44477f75e8169d2</th>\n",
              "      <td>13</td>\n",
              "      <td>negative</td>\n",
              "      <td>NaN</td>\n",
              "      <td>NaN</td>\n",
              "      <td>NaN</td>\n",
              "      <td>NaN</td>\n",
              "      <td>NaN</td>\n",
              "      <td>NaN</td>\n",
              "      <td>NaN</td>\n",
              "      <td>NaN</td>\n",
              "      <td>...</td>\n",
              "      <td>NaN</td>\n",
              "      <td>NaN</td>\n",
              "      <td>NaN</td>\n",
              "      <td>NaN</td>\n",
              "      <td>NaN</td>\n",
              "      <td>NaN</td>\n",
              "      <td>NaN</td>\n",
              "      <td>NaN</td>\n",
              "      <td>NaN</td>\n",
              "      <td>NaN</td>\n",
              "    </tr>\n",
              "    <tr>\n",
              "      <th>126e9dd13932f68</th>\n",
              "      <td>17</td>\n",
              "      <td>negative</td>\n",
              "      <td>0.236515</td>\n",
              "      <td>-0.02234</td>\n",
              "      <td>-0.517413</td>\n",
              "      <td>0.010677</td>\n",
              "      <td>0.102004</td>\n",
              "      <td>0.318366</td>\n",
              "      <td>-0.95079</td>\n",
              "      <td>-0.09461</td>\n",
              "      <td>...</td>\n",
              "      <td>not_detected</td>\n",
              "      <td>not_detected</td>\n",
              "      <td>not_detected</td>\n",
              "      <td>not_detected</td>\n",
              "      <td>not_detected</td>\n",
              "      <td>not_detected</td>\n",
              "      <td>not_detected</td>\n",
              "      <td>not_detected</td>\n",
              "      <td>not_detected</td>\n",
              "      <td>not_detected</td>\n",
              "    </tr>\n",
              "    <tr>\n",
              "      <th>a46b4402a0e5696</th>\n",
              "      <td>8</td>\n",
              "      <td>negative</td>\n",
              "      <td>NaN</td>\n",
              "      <td>NaN</td>\n",
              "      <td>NaN</td>\n",
              "      <td>NaN</td>\n",
              "      <td>NaN</td>\n",
              "      <td>NaN</td>\n",
              "      <td>NaN</td>\n",
              "      <td>NaN</td>\n",
              "      <td>...</td>\n",
              "      <td>NaN</td>\n",
              "      <td>NaN</td>\n",
              "      <td>NaN</td>\n",
              "      <td>NaN</td>\n",
              "      <td>NaN</td>\n",
              "      <td>NaN</td>\n",
              "      <td>NaN</td>\n",
              "      <td>NaN</td>\n",
              "      <td>NaN</td>\n",
              "      <td>NaN</td>\n",
              "    </tr>\n",
              "    <tr>\n",
              "      <th>f7d619a94f97c45</th>\n",
              "      <td>5</td>\n",
              "      <td>negative</td>\n",
              "      <td>NaN</td>\n",
              "      <td>NaN</td>\n",
              "      <td>NaN</td>\n",
              "      <td>NaN</td>\n",
              "      <td>NaN</td>\n",
              "      <td>NaN</td>\n",
              "      <td>NaN</td>\n",
              "      <td>NaN</td>\n",
              "      <td>...</td>\n",
              "      <td>NaN</td>\n",
              "      <td>NaN</td>\n",
              "      <td>NaN</td>\n",
              "      <td>NaN</td>\n",
              "      <td>NaN</td>\n",
              "      <td>NaN</td>\n",
              "      <td>NaN</td>\n",
              "      <td>NaN</td>\n",
              "      <td>NaN</td>\n",
              "      <td>NaN</td>\n",
              "    </tr>\n",
              "    <tr>\n",
              "      <th>d9e41465789c2b5</th>\n",
              "      <td>15</td>\n",
              "      <td>negative</td>\n",
              "      <td>NaN</td>\n",
              "      <td>NaN</td>\n",
              "      <td>NaN</td>\n",
              "      <td>NaN</td>\n",
              "      <td>NaN</td>\n",
              "      <td>NaN</td>\n",
              "      <td>NaN</td>\n",
              "      <td>NaN</td>\n",
              "      <td>...</td>\n",
              "      <td>not_detected</td>\n",
              "      <td>not_detected</td>\n",
              "      <td>not_detected</td>\n",
              "      <td>not_detected</td>\n",
              "      <td>not_detected</td>\n",
              "      <td>not_detected</td>\n",
              "      <td>not_detected</td>\n",
              "      <td>not_detected</td>\n",
              "      <td>not_detected</td>\n",
              "      <td>not_detected</td>\n",
              "    </tr>\n",
              "  </tbody>\n",
              "</table>\n",
              "<p>5 rows × 33 columns</p>\n",
              "</div>"
            ],
            "text/plain": [
              "                 Patient age quantile SARS-Cov-2 exam result  Hematocrit  \\\n",
              "Patient ID                                                                 \n",
              "44477f75e8169d2                    13               negative         NaN   \n",
              "126e9dd13932f68                    17               negative    0.236515   \n",
              "a46b4402a0e5696                     8               negative         NaN   \n",
              "f7d619a94f97c45                     5               negative         NaN   \n",
              "d9e41465789c2b5                    15               negative         NaN   \n",
              "\n",
              "                 Hemoglobin  Platelets  Mean platelet volume   \\\n",
              "Patient ID                                                      \n",
              "44477f75e8169d2         NaN        NaN                    NaN   \n",
              "126e9dd13932f68    -0.02234  -0.517413               0.010677   \n",
              "a46b4402a0e5696         NaN        NaN                    NaN   \n",
              "f7d619a94f97c45         NaN        NaN                    NaN   \n",
              "d9e41465789c2b5         NaN        NaN                    NaN   \n",
              "\n",
              "                 Red blood Cells  Lymphocytes  \\\n",
              "Patient ID                                      \n",
              "44477f75e8169d2              NaN          NaN   \n",
              "126e9dd13932f68         0.102004     0.318366   \n",
              "a46b4402a0e5696              NaN          NaN   \n",
              "f7d619a94f97c45              NaN          NaN   \n",
              "d9e41465789c2b5              NaN          NaN   \n",
              "\n",
              "                 Mean corpuscular hemoglobin concentration (MCHC)  Leukocytes  \\\n",
              "Patient ID                                                                      \n",
              "44477f75e8169d2                                               NaN         NaN   \n",
              "126e9dd13932f68                                          -0.95079    -0.09461   \n",
              "a46b4402a0e5696                                               NaN         NaN   \n",
              "f7d619a94f97c45                                               NaN         NaN   \n",
              "d9e41465789c2b5                                               NaN         NaN   \n",
              "\n",
              "                 ...  Parainfluenza 3  Chlamydophila pneumoniae    Adenovirus  \\\n",
              "Patient ID       ...                                                            \n",
              "44477f75e8169d2  ...              NaN                       NaN           NaN   \n",
              "126e9dd13932f68  ...     not_detected              not_detected  not_detected   \n",
              "a46b4402a0e5696  ...              NaN                       NaN           NaN   \n",
              "f7d619a94f97c45  ...              NaN                       NaN           NaN   \n",
              "d9e41465789c2b5  ...     not_detected              not_detected  not_detected   \n",
              "\n",
              "                 Parainfluenza 4  Coronavirus229E  CoronavirusOC43  \\\n",
              "Patient ID                                                           \n",
              "44477f75e8169d2              NaN              NaN              NaN   \n",
              "126e9dd13932f68     not_detected     not_detected     not_detected   \n",
              "a46b4402a0e5696              NaN              NaN              NaN   \n",
              "f7d619a94f97c45              NaN              NaN              NaN   \n",
              "d9e41465789c2b5     not_detected     not_detected     not_detected   \n",
              "\n",
              "                Inf A H1N1 2009 Bordetella pertussis Metapneumovirus  \\\n",
              "Patient ID                                                             \n",
              "44477f75e8169d2             NaN                  NaN             NaN   \n",
              "126e9dd13932f68    not_detected         not_detected    not_detected   \n",
              "a46b4402a0e5696             NaN                  NaN             NaN   \n",
              "f7d619a94f97c45             NaN                  NaN             NaN   \n",
              "d9e41465789c2b5    not_detected         not_detected    not_detected   \n",
              "\n",
              "                Parainfluenza 2  \n",
              "Patient ID                       \n",
              "44477f75e8169d2             NaN  \n",
              "126e9dd13932f68    not_detected  \n",
              "a46b4402a0e5696             NaN  \n",
              "f7d619a94f97c45             NaN  \n",
              "d9e41465789c2b5    not_detected  \n",
              "\n",
              "[5 rows x 33 columns]"
            ]
          },
          "execution_count": 48,
          "metadata": {},
          "output_type": "execute_result"
        }
      ],
      "source": [
        "df = df[key_columns + blood_columns + viral_columns]\n",
        "df.head()"
      ]
    },
    {
      "cell_type": "markdown",
      "metadata": {
        "colab_type": "text",
        "id": "kjDxmab7vJy9"
      },
      "source": [
        "## TrainTest - Nettoyage - Encodage"
      ]
    },
    {
      "cell_type": "code",
      "execution_count": 49,
      "metadata": {
        "colab": {},
        "colab_type": "code",
        "id": "FGoTxrGhvJy9"
      },
      "outputs": [],
      "source": [
        "from sklearn.model_selection import train_test_split"
      ]
    },
    {
      "cell_type": "code",
      "execution_count": 50,
      "metadata": {
        "colab": {},
        "colab_type": "code",
        "id": "dNOA3tuNvJy_"
      },
      "outputs": [],
      "source": [
        "trainset, testset = train_test_split(df, test_size=0.2, random_state=0)"
      ]
    },
    {
      "cell_type": "code",
      "execution_count": 51,
      "metadata": {
        "colab": {
          "base_uri": "https://localhost:8080/",
          "height": 68
        },
        "colab_type": "code",
        "id": "CRoPWXQovJzB",
        "outputId": "843f4ca3-37fb-4447-aca5-a988ad2c4a7b"
      },
      "outputs": [
        {
          "data": {
            "text/plain": [
              "SARS-Cov-2 exam result\n",
              "negative    4068\n",
              "positive     447\n",
              "Name: count, dtype: int64"
            ]
          },
          "execution_count": 51,
          "metadata": {},
          "output_type": "execute_result"
        }
      ],
      "source": [
        "trainset['SARS-Cov-2 exam result'].value_counts()"
      ]
    },
    {
      "cell_type": "code",
      "execution_count": 52,
      "metadata": {
        "colab": {
          "base_uri": "https://localhost:8080/",
          "height": 68
        },
        "colab_type": "code",
        "id": "85m56b32vJzD",
        "outputId": "08751b73-6286-4175-f9c9-6e7f9351fe3f"
      },
      "outputs": [
        {
          "data": {
            "text/plain": [
              "SARS-Cov-2 exam result\n",
              "negative    1018\n",
              "positive     111\n",
              "Name: count, dtype: int64"
            ]
          },
          "execution_count": 52,
          "metadata": {},
          "output_type": "execute_result"
        }
      ],
      "source": [
        "testset['SARS-Cov-2 exam result'].value_counts()"
      ]
    },
    {
      "cell_type": "code",
      "execution_count": 53,
      "metadata": {
        "colab": {},
        "colab_type": "code",
        "id": "3jgKiQcyvJzF"
      },
      "outputs": [],
      "source": [
        "def encodage(df):\n",
        "    code = {'negative':0,\n",
        "            'positive':1,\n",
        "            'not_detected':0,\n",
        "            'detected':1}\n",
        "    \n",
        "    for col in df.select_dtypes('object'):\n",
        "        df[col] = df[col].map(code)\n",
        "        \n",
        "    return df"
      ]
    },
    {
      "cell_type": "code",
      "execution_count": 68,
      "metadata": {},
      "outputs": [
        {
          "data": {
            "text/plain": [
              "float64    31\n",
              "int64       2\n",
              "Name: count, dtype: int64"
            ]
          },
          "execution_count": 68,
          "metadata": {},
          "output_type": "execute_result"
        }
      ],
      "source": [
        "df.dtypes.value_counts()"
      ]
    },
    {
      "cell_type": "code",
      "execution_count": 70,
      "metadata": {
        "colab": {},
        "colab_type": "code",
        "id": "RKdIkxtHvJzH"
      },
      "outputs": [],
      "source": [
        "def feature_engineering(df):\n",
        "    df['est malade'] = df[viral_columns].sum(axis=1) >= 1\n",
        "    df = df.drop(viral_columns, axis=1)\n",
        "    return df"
      ]
    },
    {
      "cell_type": "code",
      "execution_count": 71,
      "metadata": {
        "colab": {},
        "colab_type": "code",
        "id": "qcp9JvE5vJzJ"
      },
      "outputs": [],
      "source": [
        "def imputation(df):\n",
        "    #df['is na'] = (df['Parainfluenza 3'].isna()) | (df['Leukocytes'].isna())\n",
        "    #df = df.fillna(-999)\n",
        "    df = df.dropna(axis=0)\n",
        "    return  df"
      ]
    },
    {
      "cell_type": "code",
      "execution_count": 72,
      "metadata": {
        "colab": {},
        "colab_type": "code",
        "id": "AKYCi3NnvJzK"
      },
      "outputs": [],
      "source": [
        "def preprocessing(df):\n",
        "    \n",
        "    df = encodage(df)\n",
        "    df = feature_engineering(df)\n",
        "    df = imputation(df)\n",
        "    \n",
        "    X = df.drop('SARS-Cov-2 exam result', axis=1)\n",
        "    y = df['SARS-Cov-2 exam result']\n",
        "    \n",
        "    print(y.value_counts())\n",
        "    \n",
        "    return X, y"
      ]
    },
    {
      "cell_type": "code",
      "execution_count": 73,
      "metadata": {
        "colab": {
          "base_uri": "https://localhost:8080/",
          "height": 272
        },
        "colab_type": "code",
        "id": "3KBs-ujBvJzM",
        "outputId": "2bcacce4-762f-437e-c4ed-51fc3b0f8462"
      },
      "outputs": [
        {
          "name": "stdout",
          "output_type": "stream",
          "text": [
            "SARS-Cov-2 exam result\n",
            "0    422\n",
            "1     65\n",
            "Name: count, dtype: int64\n"
          ]
        }
      ],
      "source": [
        "X_train, y_train = preprocessing(trainset)"
      ]
    },
    {
      "cell_type": "code",
      "execution_count": 74,
      "metadata": {
        "colab": {
          "base_uri": "https://localhost:8080/",
          "height": 272
        },
        "colab_type": "code",
        "id": "DVf4oBdnvJzP",
        "outputId": "f96ad64d-7dfd-4c51-9f3e-bcc2fcdfd903"
      },
      "outputs": [
        {
          "name": "stdout",
          "output_type": "stream",
          "text": [
            "SARS-Cov-2 exam result\n",
            "0    95\n",
            "1    16\n",
            "Name: count, dtype: int64\n"
          ]
        }
      ],
      "source": [
        "X_test, y_test = preprocessing(testset)"
      ]
    },
    {
      "cell_type": "markdown",
      "metadata": {
        "colab_type": "text",
        "id": "yLFEfMcmvJzQ"
      },
      "source": [
        "## Modellisation"
      ]
    },
    {
      "cell_type": "code",
      "execution_count": 75,
      "metadata": {
        "colab": {},
        "colab_type": "code",
        "id": "DaYCentPvJzR"
      },
      "outputs": [],
      "source": [
        "from sklearn.tree import DecisionTreeClassifier\n",
        "from sklearn.ensemble import RandomForestClassifier\n",
        "from sklearn.pipeline import make_pipeline\n",
        "from sklearn.feature_selection import SelectKBest, f_classif\n",
        "from sklearn.preprocessing import PolynomialFeatures\n",
        "from sklearn.decomposition import PCA"
      ]
    },
    {
      "cell_type": "code",
      "execution_count": 76,
      "metadata": {
        "colab": {},
        "colab_type": "code",
        "id": "A85d9oArvJzS"
      },
      "outputs": [],
      "source": [
        "model_1 = RandomForestClassifier(random_state=0)"
      ]
    },
    {
      "cell_type": "code",
      "execution_count": 77,
      "metadata": {
        "colab": {},
        "colab_type": "code",
        "id": "N-VDXhe2vJzU"
      },
      "outputs": [],
      "source": [
        "model_2 = make_pipeline(PolynomialFeatures(2), SelectKBest(f_classif, k=10),\n",
        "                      RandomForestClassifier(random_state=0))"
      ]
    },
    {
      "cell_type": "markdown",
      "metadata": {
        "colab_type": "text",
        "id": "_iwPzFFKvJzV"
      },
      "source": [
        "## Procédure d'évaluation"
      ]
    },
    {
      "cell_type": "code",
      "execution_count": 78,
      "metadata": {
        "colab": {},
        "colab_type": "code",
        "id": "thqK6zyxvJzW"
      },
      "outputs": [],
      "source": [
        "from sklearn.metrics import f1_score, confusion_matrix, classification_report\n",
        "from sklearn.model_selection import learning_curve"
      ]
    },
    {
      "cell_type": "code",
      "execution_count": 79,
      "metadata": {
        "colab": {},
        "colab_type": "code",
        "id": "Ig2M_p3FvJzX"
      },
      "outputs": [],
      "source": [
        "def evaluation(model):\n",
        "    \n",
        "    model.fit(X_train, y_train)\n",
        "    ypred = model.predict(X_test)\n",
        "    \n",
        "    print(confusion_matrix(y_test, ypred))\n",
        "    print(classification_report(y_test, ypred))\n",
        "    \n",
        "    N, train_score, val_score = learning_curve(model, X_train, y_train,\n",
        "                                              cv=4, scoring='f1',\n",
        "                                               train_sizes=np.linspace(0.1, 1, 10))\n",
        "    \n",
        "    \n",
        "    plt.figure(figsize=(12, 8))\n",
        "    plt.plot(N, train_score.mean(axis=1), label='train score')\n",
        "    plt.plot(N, val_score.mean(axis=1), label='validation score')\n",
        "    plt.legend()\n",
        "    \n",
        "    "
      ]
    },
    {
      "cell_type": "code",
      "execution_count": 80,
      "metadata": {
        "colab": {
          "base_uri": "https://localhost:8080/",
          "height": 670
        },
        "colab_type": "code",
        "id": "94u9GhSyvJzZ",
        "outputId": "1387dd13-97b5-463a-a11c-f298acd2364a"
      },
      "outputs": [
        {
          "name": "stdout",
          "output_type": "stream",
          "text": [
            "[[92  3]\n",
            " [13  3]]\n",
            "              precision    recall  f1-score   support\n",
            "\n",
            "           0       0.88      0.97      0.92        95\n",
            "           1       0.50      0.19      0.27        16\n",
            "\n",
            "    accuracy                           0.86       111\n",
            "   macro avg       0.69      0.58      0.60       111\n",
            "weighted avg       0.82      0.86      0.83       111\n",
            "\n"
          ]
        },
        {
          "data": {
            "image/png": "[encoded data removed]",
            "text/plain": [
              "<Figure size 1200x800 with 1 Axes>"
            ]
          },
          "metadata": {},
          "output_type": "display_data"
        }
      ],
      "source": [
        "evaluation(model_1)"
      ]
    },
    {
      "cell_type": "code",
      "execution_count": 66,
      "metadata": {
        "colab": {
          "base_uri": "https://localhost:8080/",
          "height": 754
        },
        "colab_type": "code",
        "id": "VdNHtoRSvJza",
        "outputId": "33960ced-edb0-4109-8e26-5fc9293f7b53"
      },
      "outputs": [
        {
          "data": {
            "text/plain": [
              "<Axes: >"
            ]
          },
          "execution_count": 66,
          "metadata": {},
          "output_type": "execute_result"
        },
        {
          "data": {
            "image/png": "[encoded data removed]",
            "text/plain": [
              "<Figure size 1200x800 with 1 Axes>"
            ]
          },
          "metadata": {},
          "output_type": "display_data"
        }
      ],
      "source": [
        "pd.DataFrame(model_1.feature_importances_, index=X_train.columns).plot.bar(figsize=(12, 8))"
      ]
    }
  ],
  "metadata": {
    "colab": {
      "include_colab_link": true,
      "name": "Untitled5-Copy5.ipynb",
      "provenance": []
    },
    "kernelspec": {
      "display_name": "Python 3",
      "language": "python",
      "name": "python3"
    },
    "language_info": {
      "codemirror_mode": {
        "name": "ipython",
        "version": 3
      },
      "file_extension": ".py",
      "mimetype": "text/x-python",
      "name": "python",
      "nbconvert_exporter": "python",
      "pygments_lexer": "ipython3",
      "version": "3.10.10"
    }
  },
  "nbformat": 4,
  "nbformat_minor": 0
}
